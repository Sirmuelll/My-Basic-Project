{
 "cells": [
  {
   "cell_type": "code",
   "execution_count": 1,
   "id": "a24379fb",
   "metadata": {},
   "outputs": [
    {
     "ename": "ModuleNotFoundError",
     "evalue": "No module named 'qrcode'",
     "output_type": "error",
     "traceback": [
      "\u001b[0;31m---------------------------------------------------------------------------\u001b[0m",
      "\u001b[0;31mModuleNotFoundError\u001b[0m                       Traceback (most recent call last)",
      "Cell \u001b[0;32mIn[1], line 2\u001b[0m\n\u001b[1;32m      1\u001b[0m \u001b[39m#Import the necessay module(s)\u001b[39;00m\n\u001b[0;32m----> 2\u001b[0m \u001b[39mimport\u001b[39;00m \u001b[39mqrcode\u001b[39;00m\n\u001b[1;32m      4\u001b[0m message \u001b[39m=\u001b[39m \u001b[39m\"\u001b[39m\u001b[39mScan to subscribe\u001b[39m\u001b[39m\"\u001b[39m\n\u001b[1;32m      6\u001b[0m imag \u001b[39m=\u001b[39m qrcode\u001b[39m.\u001b[39mmake(message)\n",
      "\u001b[0;31mModuleNotFoundError\u001b[0m: No module named 'qrcode'"
     ]
    }
   ],
   "source": [
    "#Import the necessay module(s)\n",
    "import qrcode\n",
    "\n",
    "message = \"Scan to subscribe\"\n",
    "\n",
    "imag = qrcode.make(message)\n",
    "\n",
    "imag.save('C:/Users/USER/Desktop/Coding/Python/Projects/Basic stuff/Qr Code Encoding, Decoding/basic_qrcode.png')"
   ]
  },
  {
   "cell_type": "code",
   "execution_count": null,
   "id": "59127df1",
   "metadata": {},
   "outputs": [],
   "source": []
  }
 ],
 "metadata": {
  "kernelspec": {
   "display_name": "Python 3",
   "language": "python",
   "name": "python3"
  },
  "language_info": {
   "codemirror_mode": {
    "name": "ipython",
    "version": 3
   },
   "file_extension": ".py",
   "mimetype": "text/x-python",
   "name": "python",
   "nbconvert_exporter": "python",
   "pygments_lexer": "ipython3",
   "version": "3.11.1"
  },
  "vscode": {
   "interpreter": {
    "hash": "aee8b7b246df8f9039afb4144a1f6fd8d2ca17a180786b69acc140d282b71a49"
   }
  }
 },
 "nbformat": 4,
 "nbformat_minor": 5
}
