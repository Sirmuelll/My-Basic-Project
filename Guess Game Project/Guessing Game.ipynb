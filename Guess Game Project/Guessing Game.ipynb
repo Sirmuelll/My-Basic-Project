{
 "cells": [
  {
   "cell_type": "markdown",
   "id": "7d88ac7e",
   "metadata": {},
   "source": [
    "- Import the random library\n",
    "- Create the function\n",
    "- Create the random library variable\n",
    "- Create a while loop \n",
    "- Call the function\n"
   ]
  },
  {
   "cell_type": "code",
   "execution_count": null,
   "id": "b79a0d11",
   "metadata": {},
   "outputs": [],
   "source": [
    "#import the necessary module\n",
    "import random\n",
    "import pyinputplus as pyip\n",
    "import time\n",
    "\n",
    "#create the function\n",
    "def guessGame(y):\n",
    "    numberGenerator = random.randint(1, y)\n",
    "    userGuess = 0\n",
    "    while userGuess != numberGenerator:\n",
    "        userGuess = pyip.inputNum(\"Guess the number between 1 and 10: \", lessThan=11)\n",
    "        if userGuess < numberGenerator:\n",
    "            print(\"Your guess is too low, try again!\")\n",
    "        elif userGuess > numberGenerator: \n",
    "            print(\"Your guess is too high, try again!\")\n",
    "    print(\"Congratulations, You got it right!\") \n",
    "    userinputt()\n",
    "\n",
    "def userinputt():\n",
    "    player = [\"yes\", \"no\"]\n",
    "    userInputt = None\n",
    "    \n",
    "    while userInputt not in player:\n",
    "        userInputt = input(\"Would you like to play again? Input yes or no: \").lower()\n",
    "    try:\n",
    "      if userInputt == \"yes\":\n",
    "            guessGame(10)        \n",
    "      elif userInputt == \"no\":\n",
    "        print(\"Thanks for playing, see you next time!\")\n",
    "        raise Exception\n",
    "    except: \n",
    "        print()\n",
    "    \n",
    "\n",
    "def printing():\n",
    "    print(\"Let's start.....\")\n",
    "    time.sleep(2)\n",
    "    welcome = \"Wait a second, your game is loading....\"\n",
    "    for x in welcome:\n",
    "        print(x, end=\"\", flush=True)\n",
    "        time.sleep(0.1,)\n",
    "    pass\n",
    "    \n",
    "    \n",
    "    \n",
    "\n",
    "#full game compiled\n",
    "#This code asks the user whether he/she wishes to play again.\n",
    "\n",
    "userName = input(\"Yoo! What is your name: \")\n",
    "print(f\"Hi {userName} Welcome to Guessing Game!\")\n",
    "time.sleep(2)\n",
    "printing()\n",
    "guessGame(10)\n",
    "    "
   ]
  },
  {
   "cell_type": "code",
   "execution_count": null,
   "id": "f4429357",
   "metadata": {},
   "outputs": [],
   "source": []
  },
  {
   "cell_type": "code",
   "execution_count": null,
   "id": "321bb5f0",
   "metadata": {},
   "outputs": [],
   "source": []
  },
  {
   "cell_type": "code",
   "execution_count": null,
   "id": "99829fd7",
   "metadata": {},
   "outputs": [],
   "source": []
  },
  {
   "cell_type": "code",
   "execution_count": 79,
   "id": "966d7a11",
   "metadata": {},
   "outputs": [],
   "source": []
  },
  {
   "cell_type": "code",
   "execution_count": null,
   "id": "8d8fac28",
   "metadata": {},
   "outputs": [],
   "source": []
  },
  {
   "cell_type": "code",
   "execution_count": null,
   "id": "1c25390d",
   "metadata": {},
   "outputs": [],
   "source": []
  }
 ],
 "metadata": {
  "kernelspec": {
   "display_name": "Python 3 (ipykernel)",
   "language": "python",
   "name": "python3"
  },
  "language_info": {
   "codemirror_mode": {
    "name": "ipython",
    "version": 3
   },
   "file_extension": ".py",
   "mimetype": "text/x-python",
   "name": "python",
   "nbconvert_exporter": "python",
   "pygments_lexer": "ipython3",
   "version": "3.9.13"
  }
 },
 "nbformat": 4,
 "nbformat_minor": 5
}
