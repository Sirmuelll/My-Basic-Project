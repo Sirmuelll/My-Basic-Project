{
 "cells": [
  {
   "cell_type": "markdown",
   "metadata": {},
   "source": [
    "n this project, we will scrape data from \"imdb\" website<br>\n",
    "-> First of all, we will automate the process of selecting some criteria like date of movie release, etc.<br>\n",
    "-> Then, we will proceeed with scrapping the data using beautiful soup"
   ]
  },
  {
   "cell_type": "markdown",
   "metadata": {},
   "source": [
    "mport the necessary modules"
   ]
  },
  {
   "cell_type": "code",
   "execution_count": 121,
   "metadata": {},
   "outputs": [],
   "source": [
    "from selenium import webdriver\n",
    "from selenium.webdriver.common.by import By\n",
    "from selenium.webdriver.support.ui import Select\n",
    "import pandas as pd\n",
    "import time"
   ]
  },
  {
   "cell_type": "markdown",
   "metadata": {},
   "source": [
    "Initialize chrome"
   ]
  },
  {
   "cell_type": "code",
   "execution_count": 122,
   "metadata": {},
   "outputs": [
    {
     "name": "stderr",
     "output_type": "stream",
     "text": [
      "C:\\Users\\BALOGUN\\AppData\\Local\\Temp\\ipykernel_14280\\504628618.py:1: DeprecationWarning: executable_path has been deprecated, please pass in a Service object\n",
      "  driver = webdriver.Chrome(executable_path = 'C:\\webdrivers\\chromedriver.exe')\n"
     ]
    }
   ],
   "source": [
    "driver = webdriver.Chrome(executable_path = 'C:\\webdrivers\\chromedriver.exe')"
   ]
  },
  {
   "cell_type": "markdown",
   "metadata": {},
   "source": [
    "pen up our imdb website"
   ]
  },
  {
   "cell_type": "code",
   "execution_count": 123,
   "metadata": {},
   "outputs": [],
   "source": [
    "website = 'https://www.imdb.com'\n",
    "driver.get(website)  #this opens the website\n",
    "driver.maximize_window() #This maximizes the window\n",
    "time.sleep(3)"
   ]
  },
  {
   "cell_type": "markdown",
   "metadata": {},
   "source": [
    "lick on the dropdown beside the searchbar"
   ]
  },
  {
   "cell_type": "code",
   "execution_count": 124,
   "metadata": {},
   "outputs": [],
   "source": [
    "all_button = driver.find_element(By.CLASS_NAME, \"nav-search-form__categories\")\n",
    "all_button.click()\n",
    "time.sleep(2)"
   ]
  },
  {
   "cell_type": "markdown",
   "metadata": {},
   "source": [
    "lick on \"Advanced Search\""
   ]
  },
  {
   "cell_type": "code",
   "execution_count": 125,
   "metadata": {},
   "outputs": [],
   "source": [
    "advanced_search_button = driver.find_element(By.LINK_TEXT, \"Advanced Search\")\n",
    "advanced_search_button.click()\n",
    "time.sleep(2)"
   ]
  },
  {
   "cell_type": "markdown",
   "metadata": {},
   "source": [
    "lick on \"Advanced Title Search\""
   ]
  },
  {
   "cell_type": "code",
   "execution_count": 126,
   "metadata": {},
   "outputs": [],
   "source": [
    "advanced_title_button = driver.find_element(By.LINK_TEXT, \"Advanced Title Search\")\n",
    "advanced_title_button.click()\n",
    "time.sleep(2)"
   ]
  },
  {
   "cell_type": "markdown",
   "metadata": {},
   "source": [
    "electing the important criteria on the page"
   ]
  },
  {
   "cell_type": "code",
   "execution_count": 127,
   "metadata": {},
   "outputs": [],
   "source": [
    "tv_series = driver.find_element(By.ID, \"title_type-3\")\n",
    "tv_series.click() #this checks the tv series box"
   ]
  },
  {
   "cell_type": "code",
   "execution_count": 128,
   "metadata": {},
   "outputs": [],
   "source": [
    "feature_film = driver.find_element(By.ID, \"title_type-1\")\n",
    "feature_film.click() #this checks the feature film box"
   ]
  },
  {
   "cell_type": "code",
   "execution_count": 129,
   "metadata": {},
   "outputs": [],
   "source": [
    "tv_movie = driver.find_element(By.ID, \"title_type-2\")\n",
    "tv_movie.click() #this checks the tv movie box"
   ]
  },
  {
   "cell_type": "markdown",
   "metadata": {},
   "source": [
    "nput the values of the release date"
   ]
  },
  {
   "cell_type": "code",
   "execution_count": 130,
   "metadata": {},
   "outputs": [],
   "source": [
    "from_date = driver.find_element(By.NAME, \"release_date-min\")\n",
    "from_date.send_keys(\"1997-01-01\") #this inputs the value for the starting date"
   ]
  },
  {
   "cell_type": "code",
   "execution_count": 131,
   "metadata": {},
   "outputs": [],
   "source": [
    "to_date = driver.find_element(By.NAME, \"release_date-max\")\n",
    "to_date.send_keys(\"2022-10-01\") ##this inputs the value for the ending date"
   ]
  },
  {
   "cell_type": "markdown",
   "metadata": {},
   "source": [
    "elect the user rating"
   ]
  },
  {
   "cell_type": "code",
   "execution_count": 132,
   "metadata": {},
   "outputs": [],
   "source": [
    "min_rating = driver.find_element(By.NAME, \"user_rating-min\")\n",
    "min_rating.click()\n",
    "mmin_rating = Select(min_rating)\n",
    "mmin_rating.select_by_visible_text(\"7.0\") #this selects 7.0 as the minimum user rating"
   ]
  },
  {
   "cell_type": "code",
   "execution_count": 133,
   "metadata": {},
   "outputs": [],
   "source": [
    "max_rating = driver.find_element(By.NAME, \"user_rating-max\")\n",
    "max_rating.click()\n",
    "mmax_rating = Select(max_rating)\n",
    "mmax_rating.select_by_visible_text(\"10\") #this selects 10 as the minimum user rating"
   ]
  },
  {
   "cell_type": "markdown",
   "metadata": {},
   "source": [
    "electing the important genres"
   ]
  },
  {
   "cell_type": "code",
   "execution_count": 134,
   "metadata": {},
   "outputs": [],
   "source": [
    "action_genre = driver.find_element(By.ID, \"genres-1\")\n",
    "action_genre.click() #this checks the Action box"
   ]
  },
  {
   "cell_type": "code",
   "execution_count": 135,
   "metadata": {},
   "outputs": [],
   "source": [
    "romance_genre = driver.find_element(By.ID, \"genres-20\")\n",
    "romance_genre.click() #this checks the Romance box"
   ]
  },
  {
   "cell_type": "code",
   "execution_count": 136,
   "metadata": {},
   "outputs": [],
   "source": [
    "crime_genre = driver.find_element(By.ID, \"genres-6\")\n",
    "crime_genre.click() #this checks the Crime box"
   ]
  },
  {
   "cell_type": "markdown",
   "metadata": {},
   "source": [
    "elect your preferred language"
   ]
  },
  {
   "cell_type": "code",
   "execution_count": 137,
   "metadata": {},
   "outputs": [],
   "source": [
    "language = driver.find_element(By.NAME, \"languages\")\n",
    "lang = Select(language)\n",
    "lang.select_by_visible_text(\"English\")\n",
    "\n",
    "search_number = driver.find_element(By.ID, \"search-count\")\n",
    "search_number1 = Select(search_number)\n",
    "search_number1.select_by_index(2)"
   ]
  },
  {
   "cell_type": "markdown",
   "metadata": {},
   "source": [
    "lick on the search button"
   ]
  },
  {
   "cell_type": "code",
   "execution_count": 138,
   "metadata": {},
   "outputs": [],
   "source": [
    "search = driver.find_element(By.CLASS_NAME, \"primary\")\n",
    "search.click()\n",
    "time.sleep(2)"
   ]
  },
  {
   "cell_type": "markdown",
   "metadata": {},
   "source": [
    "y now, we will be on the page where we would be extracting our data from.<br>\n",
    "e will still Selenium to extract the data instead of alternatives like beautifulsoup"
   ]
  },
  {
   "cell_type": "code",
   "execution_count": 146,
   "metadata": {},
   "outputs": [],
   "source": [
    "names = driver.find_elements(By.XPATH, \"//div[@class='lister-item-content']/h3/a\")\n",
    "date = driver.find_elements(By.CLASS_NAME, \"text-muted unbold\") #this finds all the movies date-released data"
   ]
  },
  {
   "cell_type": "code",
   "execution_count": 147,
   "metadata": {},
   "outputs": [
    {
     "name": "stdout",
     "output_type": "stream",
     "text": [
      "0\n"
     ]
    }
   ],
   "source": [
    "print(len(names))"
   ]
  },
  {
   "cell_type": "code",
   "execution_count": null,
   "metadata": {},
   "outputs": [],
   "source": [
    "print(len(date))"
   ]
  }
 ],
 "metadata": {
  "kernelspec": {
   "display_name": "Python 3 (ipykernel)",
   "language": "python",
   "name": "python3"
  },
  "language_info": {
   "codemirror_mode": {
    "name": "ipython",
    "version": 3
   },
   "file_extension": ".py",
   "mimetype": "text/x-python",
   "name": "python",
   "nbconvert_exporter": "python",
   "pygments_lexer": "ipython3",
   "version": "3.9.12"
  }
 },
 "nbformat": 4,
 "nbformat_minor": 2
}
